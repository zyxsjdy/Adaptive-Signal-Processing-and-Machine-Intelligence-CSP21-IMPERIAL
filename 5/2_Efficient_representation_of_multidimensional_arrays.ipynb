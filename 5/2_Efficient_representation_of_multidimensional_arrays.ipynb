{
 "cells": [
  {
   "cell_type": "code",
   "execution_count": 1,
   "metadata": {},
   "outputs": [],
   "source": [
    "%load_ext autoreload\n",
    "%autoreload 2\n",
    "%matplotlib inline"
   ]
  },
  {
   "cell_type": "code",
   "execution_count": 2,
   "metadata": {},
   "outputs": [],
   "source": [
    "import numpy as np\n",
    "import matplotlib.pyplot as plt\n",
    "from hottbox.core import Tensor, TensorCPD, TensorTKD"
   ]
  },
  {
   "cell_type": "markdown",
   "metadata": {
    "toc-hr-collapsed": false
   },
   "source": [
    "[Return to Table of Contents](./0_Table_of_contents.ipynb)"
   ]
  },
  {
   "cell_type": "markdown",
   "metadata": {},
   "source": [
    "# Efficient representation of multidimensional arrays\n",
    "\n",
    "A tensor of order $N$ is said to be of **rank-1** if it can be represented as an outer product of $N$ vectors. \n",
    "\n",
    "The figure below illustrates an example of a rank-1 tensor $\\mathbf{\\underline{X}}$ and provides intuition on how to compute the operation of outer product:\n",
    "\n",
    "<img src=\"./imgs/outerproduct.png\" alt=\"Drawing\" style=\"width: 500px;\"/>\n"
   ]
  },
  {
   "cell_type": "markdown",
   "metadata": {
    "toc-hr-collapsed": false
   },
   "source": [
    "# Kruskal representation\n",
    "\n",
    "For a third order tensor or rank $R$ the Kruskal representation can be expressed as follows:\n",
    "\n",
    "$$\n",
    "\\mathbf{\\underline{X}} = \\sum_{r=1}^R \\mathbf{\\underline{X}}_r = \\sum_{r=1}^R \\lambda_{r} \\cdot \\mathbf{a}_r \\circ \\mathbf{b}_r \\circ \\mathbf{c}_r\n",
    "$$\n",
    "\n",
    "The vectors $\\mathbf{a}_r, \\mathbf{b}_r$ and $\\mathbf{c}_r$ are oftentime combined into the corresponding **factor matrices**:\n",
    "\n",
    "$$\n",
    "\\mathbf{A} = \\Big[ \\mathbf{a}_1 \\cdots \\mathbf{a}_R \\Big] \\quad\n",
    "\\mathbf{B} = \\Big[ \\mathbf{b}_1 \\cdots \\mathbf{b}_R \\Big] \\quad\n",
    "\\mathbf{C} = \\Big[ \\mathbf{c}_1 \\cdots \\mathbf{c}_R \\Big] \\quad\n",
    "$$\n",
    "\n",
    "Thus, if we employ the mode-$n$ product, the **Kruskal representation** takes the form:\n",
    "\n",
    "$$\n",
    "\\mathbf{\\underline{X}} = \\mathbf{\\underline{\\Lambda}} \\times_1 \\mathbf{A} \\times_2 \\mathbf{B} \\times_3 \\mathbf{C} = \\Big[\\mathbf{\\underline{\\Lambda}}; \\mathbf{A}, \\mathbf{B}, \\mathbf{C} \\Big]\n",
    "$$\n",
    "\n",
    "where the elements on the super-diagonal of the core tensor $\\mathbf{\\underline{\\Lambda}}$ are occupied by the values $\\lambda_r$ and all other entries are equal to zero. This can be visualised as shown on figure below:\n",
    "\n",
    "<img src=\"./imgs/TensorCPD.png\" alt=\"Drawing\" style=\"width: 500px;\"/>\n"
   ]
  },
  {
   "cell_type": "code",
   "execution_count": 3,
   "metadata": {},
   "outputs": [
    {
     "name": "stdout",
     "output_type": "stream",
     "text": [
      "Kruskal representation of a tensor with rank=(2,).\n",
      "Factor matrices represent properties: ['mode-0', 'mode-1', 'mode-2']\n",
      "With corresponding latent components described by (3, 4, 5) features respectively.\n"
     ]
    }
   ],
   "source": [
    "# Create factor matrices\n",
    "I, J, K = 3, 4, 5\n",
    "R = 2\n",
    "\n",
    "A = np.arange(I * R).reshape(I, R)\n",
    "B = np.arange(J * R).reshape(J, R)\n",
    "C = np.arange(K * R).reshape(K, R)\n",
    "\n",
    "# Create core values\n",
    "values = np.arange(R)\n",
    "\n",
    "# Create Kruskal representation\n",
    "tensor_cpd = TensorCPD(fmat=[A, B, C], core_values=values)\n",
    "\n",
    "# Result preview\n",
    "print(tensor_cpd)"
   ]
  },
  {
   "cell_type": "markdown",
   "metadata": {},
   "source": [
    "## **Assigment 1**\n",
    "\n",
    "1. What is the order of a tensor if its Kruskal representation consists of 5 factor matrices.\n",
    "\n",
    "2. What is the order of a tensor if its Kruskal representation consists of core tensor which has only 5 elements on the super-diagonal.\n",
    "\n",
    "3. For a 3-rd order tensor that consists of 500 elements, provide three different Kruskal representations.\n",
    "\n",
    "4. For a tensor that consits of 1000 elements, provide three Kruskal representations, each of which should have different number of factor matrices.\n",
    "\n",
    "5. For a 4-th order tensor that consists of 2401 elements, provide Kruskal representation if its core tensor consisting of 81 elements.\n"
   ]
  },
  {
   "cell_type": "markdown",
   "metadata": {},
   "source": [
    "### Solution: Part 1"
   ]
  },
  {
   "cell_type": "code",
   "execution_count": 4,
   "metadata": {},
   "outputs": [
    {
     "name": "stdout",
     "output_type": "stream",
     "text": [
      "Obviously, the order is 5, equal to the number of factor matrices.\n"
     ]
    }
   ],
   "source": [
    "answer_1_1 = \"Obviously, the order is 5, equal to the number of factor matrices.\"  # use this variable for your answer\n",
    "\n",
    "print(answer_1_1)"
   ]
  },
  {
   "cell_type": "markdown",
   "metadata": {},
   "source": [
    "### Solution: Part 2"
   ]
  },
  {
   "cell_type": "code",
   "execution_count": 5,
   "metadata": {},
   "outputs": [
    {
     "name": "stdout",
     "output_type": "stream",
     "text": [
      "It depends only on the number of factor matrices, hence still 5.\n"
     ]
    }
   ],
   "source": [
    "answer_1_2 = \"It depends only on the number of factor matrices, hence still 5.\"  # use this variable for your answer\n",
    "\n",
    "print(answer_1_2)"
   ]
  },
  {
   "cell_type": "markdown",
   "metadata": {},
   "source": [
    "### Solution: Part 3"
   ]
  },
  {
   "cell_type": "code",
   "execution_count": 6,
   "metadata": {},
   "outputs": [
    {
     "name": "stdout",
     "output_type": "stream",
     "text": [
      "Kruskal representation of a tensor with rank=(2,).\n",
      "Factor matrices represent properties: ['mode-0', 'mode-1', 'mode-2']\n",
      "With corresponding latent components described by (5, 10, 10) features respectively.\n"
     ]
    }
   ],
   "source": [
    "# First representation\n",
    "\n",
    "# Create factor matrices\n",
    "I, J, K = 5, 10, 10\n",
    "R = 2\n",
    "\n",
    "A = np.arange(I * R).reshape(I, R)\n",
    "B = np.arange(J * R).reshape(J, R)\n",
    "C = np.arange(K * R).reshape(K, R)\n",
    "\n",
    "# Create core values\n",
    "values = np.arange(R)\n",
    "\n",
    "# Create Kruskal representation\n",
    "tensor_cpd = TensorCPD(fmat=[A, B, C], core_values=values)\n",
    "\n",
    "# Result preview\n",
    "print(tensor_cpd)"
   ]
  },
  {
   "cell_type": "code",
   "execution_count": 7,
   "metadata": {},
   "outputs": [
    {
     "name": "stdout",
     "output_type": "stream",
     "text": [
      "Kruskal representation of a tensor with rank=(3,).\n",
      "Factor matrices represent properties: ['mode-0', 'mode-1', 'mode-2']\n",
      "With corresponding latent components described by (5, 10, 10) features respectively.\n"
     ]
    }
   ],
   "source": [
    "# Second representation\n",
    "\n",
    "# Create factor matrices\n",
    "I, J, K = 5, 10, 10\n",
    "R = 3\n",
    "\n",
    "A = np.arange(I * R).reshape(I, R)\n",
    "B = np.arange(J * R).reshape(J, R)\n",
    "C = np.arange(K * R).reshape(K, R)\n",
    "\n",
    "# Create core values\n",
    "values = np.arange(R)\n",
    "\n",
    "# Create Kruskal representation\n",
    "tensor_cpd = TensorCPD(fmat=[A, B, C], core_values=values)\n",
    "\n",
    "# Result preview\n",
    "print(tensor_cpd)"
   ]
  },
  {
   "cell_type": "code",
   "execution_count": 8,
   "metadata": {},
   "outputs": [
    {
     "name": "stdout",
     "output_type": "stream",
     "text": [
      "Kruskal representation of a tensor with rank=(4,).\n",
      "Factor matrices represent properties: ['mode-0', 'mode-1', 'mode-2']\n",
      "With corresponding latent components described by (5, 10, 10) features respectively.\n"
     ]
    }
   ],
   "source": [
    "# Third representation\n",
    "\n",
    "# Create factor matrices\n",
    "I, J, K = 5, 10, 10\n",
    "R = 4\n",
    "\n",
    "A = np.arange(I * R).reshape(I, R)\n",
    "B = np.arange(J * R).reshape(J, R)\n",
    "C = np.arange(K * R).reshape(K, R)\n",
    "\n",
    "# Create core values\n",
    "values = np.arange(R)\n",
    "\n",
    "# Create Kruskal representation\n",
    "tensor_cpd = TensorCPD(fmat=[A, B, C], core_values=values)\n",
    "\n",
    "# Result preview\n",
    "print(tensor_cpd)"
   ]
  },
  {
   "cell_type": "markdown",
   "metadata": {
    "toc-hr-collapsed": false
   },
   "source": [
    "### Solution: Part 4"
   ]
  },
  {
   "cell_type": "code",
   "execution_count": 9,
   "metadata": {},
   "outputs": [
    {
     "name": "stdout",
     "output_type": "stream",
     "text": [
      "Kruskal representation of a tensor with rank=(3,).\n",
      "Factor matrices represent properties: ['mode-0', 'mode-1']\n",
      "With corresponding latent components described by (10, 100) features respectively.\n"
     ]
    }
   ],
   "source": [
    "# First representation\n",
    "\n",
    "# Create factor matrices\n",
    "I, J = 10, 100\n",
    "R = 3\n",
    "\n",
    "A = np.arange(I * R).reshape(I, R)\n",
    "B = np.arange(J * R).reshape(J, R)\n",
    "\n",
    "# Create core values\n",
    "values = np.arange(R)\n",
    "\n",
    "# Create Kruskal representation\n",
    "tensor_cpd_1_4_1 = TensorCPD(fmat=[A, B], core_values=values)\n",
    "\n",
    "# Result preview\n",
    "print(tensor_cpd_1_4_1)"
   ]
  },
  {
   "cell_type": "code",
   "execution_count": 10,
   "metadata": {},
   "outputs": [
    {
     "name": "stdout",
     "output_type": "stream",
     "text": [
      "Kruskal representation of a tensor with rank=(3,).\n",
      "Factor matrices represent properties: ['mode-0', 'mode-1', 'mode-2']\n",
      "With corresponding latent components described by (10, 10, 10) features respectively.\n"
     ]
    }
   ],
   "source": [
    "# Second representation\n",
    "\n",
    "# Create factor matrices\n",
    "I, J, K = 10, 10, 10\n",
    "R = 3\n",
    "\n",
    "A = np.arange(I * R).reshape(I, R)\n",
    "B = np.arange(J * R).reshape(J, R)\n",
    "C = np.arange(K * R).reshape(K, R)\n",
    "\n",
    "# Create core values\n",
    "values = np.arange(R)\n",
    "\n",
    "# Create Kruskal representation\n",
    "tensor_cpd_1_4_2 = TensorCPD(fmat=[A, B, C], core_values=values)\n",
    "\n",
    "# Result preview\n",
    "print(tensor_cpd_1_4_2)"
   ]
  },
  {
   "cell_type": "code",
   "execution_count": 11,
   "metadata": {},
   "outputs": [
    {
     "name": "stdout",
     "output_type": "stream",
     "text": [
      "Kruskal representation of a tensor with rank=(3,).\n",
      "Factor matrices represent properties: ['mode-0', 'mode-1', 'mode-2', 'mode-3']\n",
      "With corresponding latent components described by (2, 5, 10, 10) features respectively.\n"
     ]
    }
   ],
   "source": [
    "# Third representation\n",
    "\n",
    "# Create tensor dimensions\n",
    "I, J, K, L = 2, 5, 10, 10\n",
    "R = 3\n",
    "\n",
    "# Factor matrices\n",
    "A = np.arange(I * R).reshape(I, R)\n",
    "B = np.arange(J * R).reshape(J, R)\n",
    "C = np.arange(K * R).reshape(K, R)\n",
    "D = np.arange(L * R).reshape(L, R)\n",
    "\n",
    "# Create core values\n",
    "values = np.arange(R)\n",
    "\n",
    "# Create Kruskal representation\n",
    "tensor_cpd_1_4_3 = TensorCPD(fmat=[A, B, C, D], core_values=values)\n",
    "\n",
    "# Result preview\n",
    "print(tensor_cpd_1_4_3)"
   ]
  },
  {
   "cell_type": "markdown",
   "metadata": {},
   "source": [
    "### Solution: Part 5"
   ]
  },
  {
   "cell_type": "code",
   "execution_count": 12,
   "metadata": {},
   "outputs": [
    {
     "name": "stdout",
     "output_type": "stream",
     "text": [
      "Kruskal representation of a tensor with rank=(3,).\n",
      "Factor matrices represent properties: ['mode-0', 'mode-1', 'mode-2', 'mode-3']\n",
      "With corresponding latent components described by (7, 7, 7, 7) features respectively.\n"
     ]
    }
   ],
   "source": [
    "# Provide Kruskal representation here\n",
    "\n",
    "# Create tensor dimensions\n",
    "I, J, K, L = 7, 7, 7, 7\n",
    "R = 3                             # 3 ^ 4 = 81\n",
    "\n",
    "# Factor matrices\n",
    "A = np.arange(I * R).reshape(I, R)\n",
    "B = np.arange(J * R).reshape(J, R)\n",
    "C = np.arange(K * R).reshape(K, R)\n",
    "D = np.arange(L * R).reshape(L, R)\n",
    "\n",
    "# Create core values\n",
    "values = np.arange(R)\n",
    "\n",
    "# Create Kruskal representation\n",
    "tensor_cpd_1_4_3 = TensorCPD(fmat=[A, B, C, D], core_values=values)\n",
    "\n",
    "# Result preview\n",
    "print(tensor_cpd_1_4_3)"
   ]
  },
  {
   "cell_type": "markdown",
   "metadata": {
    "toc-hr-collapsed": false
   },
   "source": [
    "# Tucker representation\n",
    "\n"
   ]
  },
  {
   "cell_type": "markdown",
   "metadata": {},
   "source": [
    "<img src=\"./imgs/TensorTKD.png\" alt=\"Drawing\" style=\"width: 600px;\"/>\n",
    "\n",
    "For a tensor $\\mathbf{\\underline{X}} \\in \\mathbb{R}^{I \\times J \\times K}$ illustrated above, the **Tucker form** represents the tensor in hand through a dense core tensor $\\mathbf{\\underline{G}}$ with multi-linear rank ($Q, R, P$) and a set of accompanying factor matrices $\\mathbf{A} \\in \\mathbb{R}^{I \\times Q}, \\mathbf{B} \\in \\mathbb{R}^{J \\times R}$ and $\\mathbf{C} \\in \\mathbb{R}^{K \\times P}$.\n",
    "\n",
    "$$\n",
    "\\mathbf{\\underline{X}} = \\sum_{q=1}^Q \\sum_{r=1}^R \\sum_{p=1}^P \\mathbf{\\underline{X}}_{qrp} = \\sum_{q=1}^Q \\sum_{r=1}^R \\sum_{p=1}^P g_{qrp} \\cdot \\mathbf{a}_q \\circ \\mathbf{b}_r \\circ \\mathbf{c}_p\n",
    "$$\n",
    "\n",
    "The Tucker form of a tensor is closely related to the Kruskal representation and can be expressed through a \n",
    "sequence of mode-$n$ products in a similar way, that is\n",
    "\n",
    "$$\n",
    "\\mathbf{\\underline{X}} = \\mathbf{\\underline{G}} \\times_1 \\mathbf{A} \\times_2 \\mathbf{B} \\times_3 \\mathbf{C} = \\Big[\\mathbf{\\underline{G}}; \\mathbf{A}, \\mathbf{B}, \\mathbf{C} \\Big]\n",
    "$$\n"
   ]
  },
  {
   "cell_type": "code",
   "execution_count": 13,
   "metadata": {},
   "outputs": [
    {
     "name": "stdout",
     "output_type": "stream",
     "text": [
      "Tucker representation of a tensor with multi-linear rank=(2, 3, 4).\n",
      "Factor matrices represent properties: ['mode-0', 'mode-1', 'mode-2']\n",
      "With corresponding latent components described by (5, 6, 7) features respectively.\n"
     ]
    }
   ],
   "source": [
    "# Create factor matrices\n",
    "I, J, K = 5, 6, 7  # define shape of the tensor in full form\n",
    "Q, R, P = 2, 3, 4  # define multi-linear rank of the tensor in Tucker form\n",
    "\n",
    "A = np.arange(I * Q).reshape(I, Q)\n",
    "B = np.arange(J * R).reshape(J, R)\n",
    "C = np.arange(K * P).reshape(K, P)\n",
    "\n",
    "# Create core values\n",
    "values = np.arange(Q * R * P).reshape(Q, R, P)\n",
    "\n",
    "# Create Tucker representation\n",
    "tensor_tkd = TensorTKD(fmat=[A, B, C], core_values=values)\n",
    "\n",
    "# Result preview\n",
    "print(tensor_tkd)"
   ]
  },
  {
   "cell_type": "markdown",
   "metadata": {},
   "source": [
    "## **Assigment 2**\n",
    "\n",
    "1. Core tensor of a Tucker representation consists of 1848 elements. Explain what tensor order should a tensor have to able to be represented in such form.\n",
    "\n",
    "2. For a 4-th order tensor that consists of 1000 elements, provide three different Tucker representations.\n",
    "\n",
    "3. For a 3-rd order tensor that consists of 500 elements, provide three different Tucker representations given that its core tensor consists of 42 elements.\n",
    "\n",
    "4. Provide an intuition behind the main difference between the Tucker and Kruskal representations.\n"
   ]
  },
  {
   "cell_type": "markdown",
   "metadata": {},
   "source": [
    "### Solution: Part 1"
   ]
  },
  {
   "cell_type": "code",
   "execution_count": 14,
   "metadata": {},
   "outputs": [
    {
     "name": "stdout",
     "output_type": "stream",
     "text": [
      "1848 can be written as the multiple of prime numbers: 2 x 2 x 2 x 3 x 7 x 11.\n",
      "For the core tensor of the Tucker representation consists of 1848 elements, the multiplication of the dimensions should be 1848.\n",
      "Therefore, the maximum order is 6, since 1848 can only be written as the multiplication of 6 prime numbers.\n"
     ]
    }
   ],
   "source": [
    "answer_2_1 = \"1848 can be written as the multiple of prime numbers: 2 x 2 x 2 x 3 x 7 x 11.\\nFor the core tensor of the Tucker representation consists of 1848 elements, the multiplication of the dimensions should be 1848.\\nTherefore, the maximum order is 6, since 1848 can only be written as the multiplication of 6 prime numbers.\"  # use this variable for your answer\n",
    "\n",
    "print(answer_2_1)"
   ]
  },
  {
   "cell_type": "markdown",
   "metadata": {},
   "source": [
    "### Solution: Part 2"
   ]
  },
  {
   "cell_type": "code",
   "execution_count": 15,
   "metadata": {},
   "outputs": [
    {
     "name": "stdout",
     "output_type": "stream",
     "text": [
      "Tucker representation of a tensor with multi-linear rank=(2, 3, 4, 5).\n",
      "Factor matrices represent properties: ['mode-0', 'mode-1', 'mode-2', 'mode-3']\n",
      "With corresponding latent components described by (2, 5, 10, 10) features respectively.\n"
     ]
    }
   ],
   "source": [
    "# First representation\n",
    "\n",
    "# Create factor matrices\n",
    "I, J, K, L = 2, 5, 10, 10  # define shape of the tensor in full form\n",
    "Q, R, P, S = 2, 3, 4, 5  # define multi-linear rank of the tensor in Tucker form\n",
    "\n",
    "A = np.arange(I * Q).reshape(I, Q)\n",
    "B = np.arange(J * R).reshape(J, R)\n",
    "C = np.arange(K * P).reshape(K, P)\n",
    "D = np.arange(L * S).reshape(L, S)\n",
    "\n",
    "# Create core values\n",
    "values = np.arange(Q * R * P * S).reshape(Q, R, P, S)\n",
    "\n",
    "# Create Tucker representation\n",
    "tensor_tkd = TensorTKD(fmat=[A, B, C, D], core_values=values)\n",
    "\n",
    "# Result preview\n",
    "print(tensor_tkd)"
   ]
  },
  {
   "cell_type": "code",
   "execution_count": 16,
   "metadata": {},
   "outputs": [
    {
     "name": "stdout",
     "output_type": "stream",
     "text": [
      "Tucker representation of a tensor with multi-linear rank=(3, 4, 5, 6).\n",
      "Factor matrices represent properties: ['mode-0', 'mode-1', 'mode-2', 'mode-3']\n",
      "With corresponding latent components described by (4, 5, 5, 10) features respectively.\n"
     ]
    }
   ],
   "source": [
    "# Second representation\n",
    "\n",
    "# Create factor matrices\n",
    "I, J, K, L = 4, 5, 5, 10  # define shape of the tensor in full form\n",
    "Q, R, P, S = 3, 4, 5, 6  # define multi-linear rank of the tensor in Tucker form\n",
    "\n",
    "A = np.arange(I * Q).reshape(I, Q)\n",
    "B = np.arange(J * R).reshape(J, R)\n",
    "C = np.arange(K * P).reshape(K, P)\n",
    "D = np.arange(L * S).reshape(L, S)\n",
    "\n",
    "# Create core values\n",
    "values = np.arange(Q * R * P * S).reshape(Q, R, P, S)\n",
    "\n",
    "# Create Tucker representation\n",
    "tensor_tkd = TensorTKD(fmat=[A, B, C, D], core_values=values)\n",
    "\n",
    "# Result preview\n",
    "print(tensor_tkd)"
   ]
  },
  {
   "cell_type": "code",
   "execution_count": 17,
   "metadata": {},
   "outputs": [
    {
     "name": "stdout",
     "output_type": "stream",
     "text": [
      "Tucker representation of a tensor with multi-linear rank=(4, 5, 6, 7).\n",
      "Factor matrices represent properties: ['mode-0', 'mode-1', 'mode-2', 'mode-3']\n",
      "With corresponding latent components described by (2, 2, 10, 25) features respectively.\n"
     ]
    }
   ],
   "source": [
    "# Third representation\n",
    "\n",
    "# Create factor matrices\n",
    "I, J, K, L = 2, 2, 10, 25  # define shape of the tensor in full form\n",
    "Q, R, P, S = 4, 5, 6, 7  # define multi-linear rank of the tensor in Tucker form\n",
    "\n",
    "A = np.arange(I * Q).reshape(I, Q)\n",
    "B = np.arange(J * R).reshape(J, R)\n",
    "C = np.arange(K * P).reshape(K, P)\n",
    "D = np.arange(L * S).reshape(L, S)\n",
    "\n",
    "# Create core values\n",
    "values = np.arange(Q * R * P * S).reshape(Q, R, P, S)\n",
    "\n",
    "# Create Tucker representation\n",
    "tensor_tkd = TensorTKD(fmat=[A, B, C, D], core_values=values)\n",
    "\n",
    "# Result preview\n",
    "print(tensor_tkd)"
   ]
  },
  {
   "cell_type": "markdown",
   "metadata": {},
   "source": [
    "### Solution: Part 3"
   ]
  },
  {
   "cell_type": "code",
   "execution_count": 18,
   "metadata": {},
   "outputs": [
    {
     "name": "stdout",
     "output_type": "stream",
     "text": [
      "Tucker representation of a tensor with multi-linear rank=(2, 3, 7).\n",
      "Factor matrices represent properties: ['mode-0', 'mode-1', 'mode-2']\n",
      "With corresponding latent components described by (5, 10, 10) features respectively.\n"
     ]
    }
   ],
   "source": [
    "# First representation\n",
    "\n",
    "# Create factor matrices\n",
    "I, J, K = 5, 10, 10  # define shape of the tensor in full form\n",
    "Q, R, P = 2, 3, 7  # define multi-linear rank of the tensor in Tucker form\n",
    "\n",
    "A = np.arange(I * Q).reshape(I, Q)\n",
    "B = np.arange(J * R).reshape(J, R)\n",
    "C = np.arange(K * P).reshape(K, P)\n",
    "\n",
    "# Create core values\n",
    "values = np.arange(Q * R * P).reshape(Q, R, P)\n",
    "\n",
    "# Create Tucker representation\n",
    "tensor_tkd = TensorTKD(fmat=[A, B, C], core_values=values)\n",
    "\n",
    "# Result preview\n",
    "print(tensor_tkd)"
   ]
  },
  {
   "cell_type": "code",
   "execution_count": 19,
   "metadata": {},
   "outputs": [
    {
     "name": "stdout",
     "output_type": "stream",
     "text": [
      "Tucker representation of a tensor with multi-linear rank=(1, 3, 14).\n",
      "Factor matrices represent properties: ['mode-0', 'mode-1', 'mode-2']\n",
      "With corresponding latent components described by (5, 10, 10) features respectively.\n"
     ]
    }
   ],
   "source": [
    "# Second representation\n",
    "\n",
    "# Create factor matrices\n",
    "I, J, K = 5, 10, 10  # define shape of the tensor in full form\n",
    "Q, R, P = 1, 3, 14  # define multi-linear rank of the tensor in Tucker form\n",
    "\n",
    "A = np.arange(I * Q).reshape(I, Q)\n",
    "B = np.arange(J * R).reshape(J, R)\n",
    "C = np.arange(K * P).reshape(K, P)\n",
    "\n",
    "# Create core values\n",
    "values = np.arange(Q * R * P).reshape(Q, R, P)\n",
    "\n",
    "# Create Tucker representation\n",
    "tensor_tkd = TensorTKD(fmat=[A, B, C], core_values=values)\n",
    "\n",
    "# Result preview\n",
    "print(tensor_tkd)"
   ]
  },
  {
   "cell_type": "code",
   "execution_count": 20,
   "metadata": {},
   "outputs": [
    {
     "name": "stdout",
     "output_type": "stream",
     "text": [
      "Tucker representation of a tensor with multi-linear rank=(1, 6, 7).\n",
      "Factor matrices represent properties: ['mode-0', 'mode-1', 'mode-2']\n",
      "With corresponding latent components described by (5, 10, 10) features respectively.\n"
     ]
    }
   ],
   "source": [
    "# Third representation\n",
    "\n",
    "# Create factor matrices\n",
    "I, J, K = 5, 10, 10  # define shape of the tensor in full form\n",
    "Q, R, P = 1, 6, 7  # define multi-linear rank of the tensor in Tucker form\n",
    "\n",
    "A = np.arange(I * Q).reshape(I, Q)\n",
    "B = np.arange(J * R).reshape(J, R)\n",
    "C = np.arange(K * P).reshape(K, P)\n",
    "\n",
    "# Create core values\n",
    "values = np.arange(Q * R * P).reshape(Q, R, P)\n",
    "\n",
    "# Create Tucker representation\n",
    "tensor_tkd = TensorTKD(fmat=[A, B, C], core_values=values)\n",
    "\n",
    "# Result preview\n",
    "print(tensor_tkd)"
   ]
  },
  {
   "cell_type": "markdown",
   "metadata": {},
   "source": [
    "### Solution: Part 4"
   ]
  },
  {
   "cell_type": "code",
   "execution_count": 21,
   "metadata": {},
   "outputs": [
    {
     "name": "stdout",
     "output_type": "stream",
     "text": [
      "The main difference is the dimentions of the core tensor.\n",
      "In Kruskal representation, the three dimensions of the core tensor are the same. While in Tucker representation, the three dimensions of the core tensor can be different.\n",
      "Therefre, the Tucker representation can be considered as the generalised case of the Kruskal representation, which is more flexible.\n"
     ]
    }
   ],
   "source": [
    "answer_2_4 = \"The main difference is the dimentions of the core tensor.\\nIn Kruskal representation, the three dimensions of the core tensor are the same. While in Tucker representation, the three dimensions of the core tensor can be different.\\nTherefre, the Tucker representation can be considered as the generalised case of the Kruskal representation, which is more flexible.\"  # use this variable for your answer\n",
    "\n",
    "print(answer_2_4)"
   ]
  }
 ],
 "metadata": {
  "interpreter": {
   "hash": "f9df8883de760df58a5d97e7f98255f85889a2dc2b8ae389c7b932aeb953fda6"
  },
  "kernelspec": {
   "display_name": "dpm-coursework",
   "language": "python",
   "name": "python3"
  },
  "language_info": {
   "codemirror_mode": {
    "name": "ipython",
    "version": 3
   },
   "file_extension": ".py",
   "mimetype": "text/x-python",
   "name": "python",
   "nbconvert_exporter": "python",
   "pygments_lexer": "ipython3",
   "version": "3.6.5"
  },
  "toc-autonumbering": false,
  "toc-showcode": false
 },
 "nbformat": 4,
 "nbformat_minor": 2
}
