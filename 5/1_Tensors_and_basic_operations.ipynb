{
 "cells": [
  {
   "cell_type": "code",
   "execution_count": 1,
   "metadata": {},
   "outputs": [],
   "source": [
    "%load_ext autoreload\n",
    "%autoreload 2\n",
    "%matplotlib inline"
   ]
  },
  {
   "cell_type": "code",
   "execution_count": 2,
   "metadata": {},
   "outputs": [],
   "source": [
    "import numpy as np\n",
    "import matplotlib.pyplot as plt\n",
    "from hottbox.core import Tensor"
   ]
  },
  {
   "cell_type": "markdown",
   "metadata": {
    "toc-hr-collapsed": false
   },
   "source": [
    "[Return to Table of Contents](./0_Table_of_contents.ipynb)"
   ]
  },
  {
   "cell_type": "markdown",
   "metadata": {
    "toc-hr-collapsed": false
   },
   "source": [
    "# Tensors and basic operations"
   ]
  },
  {
   "cell_type": "markdown",
   "metadata": {
    "toc-hr-collapsed": true
   },
   "source": [
    "<img src=\"./imgs/tensors_dogs.jpg\" alt=\"Drawing\" style=\"width: 500px;\"/>\n",
    "\n",
    "A tensor is a multi-dimenaional array of data where each dimension is conventionally referred to as the **mode**. Tensor order is defined by the number of its modes which is equivivalent to the number of indices required to identify a particular entry of a multi-dimensional array. For ease of visualisation and compact notation, we consider a third order tensor $\\mathbf{\\underline{X}} \\in \\mathbb{R}^{I \\times J \\times K}$. Thus, an element of such a tensor, $\\mathbf{\\underline{X}} \\in \\mathbb{R}^{I \\times J \\times K}$, can be written in a general form as:\n",
    "\n",
    "$$ x_{ijk} = \\mathbf{\\underline{X}}[i, j, k]$$\n",
    "\n",
    "> **Note:** In order to be consistent with Python indexing, count of modes and elements within starts from zeros.\n",
    "\n",
    "Creation of a tensor starts with a formation of a multidimensional array of data."
   ]
  },
  {
   "cell_type": "code",
   "execution_count": 3,
   "metadata": {},
   "outputs": [
    {
     "name": "stdout",
     "output_type": "stream",
     "text": [
      "This tensor is of order 3 and consists of 24 elements.\n",
      "Sizes and names of its modes are (2, 3, 4) and ['mode-0', 'mode-1', 'mode-2'] respectively.\n"
     ]
    },
    {
     "data": {
      "text/plain": [
       "array([[[ 0,  1,  2,  3],\n",
       "        [ 4,  5,  6,  7],\n",
       "        [ 8,  9, 10, 11]],\n",
       "\n",
       "       [[12, 13, 14, 15],\n",
       "        [16, 17, 18, 19],\n",
       "        [20, 21, 22, 23]]])"
      ]
     },
     "execution_count": 3,
     "metadata": {},
     "output_type": "execute_result"
    }
   ],
   "source": [
    "# Create 3-d array of data\n",
    "array_3d = np.arange(24).reshape((2, 3, 4))\n",
    "\n",
    "# Create tensor\n",
    "tensor = Tensor(array_3d)\n",
    "\n",
    "# Result preview\n",
    "print(tensor)\n",
    "tensor.data"
   ]
  },
  {
   "cell_type": "markdown",
   "metadata": {
    "toc-hr-collapsed": true
   },
   "source": [
    "## **Assigment 1**\n",
    "\n",
    "1. Create a tensor of order 5 (of any shape) and with all its values equal to 5. Then, calculate its Frobenious norm. \n",
    "2. Construct several tensors of orders varying from 3 to 20, with the size of each dimension equal to 2. Plot the relation between an order of a tensor and the number of its elements.\n",
    "3. Construct several tensors of order 3 with the size of each dimension varying from 3 to 15. Plot the relation between the size of dimensions of a tensor and the number of its elements.\n",
    "4. Analyse and compare the so obtained graphs."
   ]
  },
  {
   "cell_type": "markdown",
   "metadata": {},
   "source": [
    "### Solution: Part 1"
   ]
  },
  {
   "cell_type": "code",
   "execution_count": 4,
   "metadata": {},
   "outputs": [
    {
     "name": "stdout",
     "output_type": "stream",
     "text": [
      "This tensor is of order 5 and consists of 32 elements.\n",
      "Sizes and names of its modes are (2, 2, 2, 2, 2) and ['mode-0', 'mode-1', 'mode-2', 'mode-3', 'mode-4'] respectively.\n",
      "[[[[[5. 5.]\n",
      "    [5. 5.]]\n",
      "\n",
      "   [[5. 5.]\n",
      "    [5. 5.]]]\n",
      "\n",
      "\n",
      "  [[[5. 5.]\n",
      "    [5. 5.]]\n",
      "\n",
      "   [[5. 5.]\n",
      "    [5. 5.]]]]\n",
      "\n",
      "\n",
      "\n",
      " [[[[5. 5.]\n",
      "    [5. 5.]]\n",
      "\n",
      "   [[5. 5.]\n",
      "    [5. 5.]]]\n",
      "\n",
      "\n",
      "  [[[5. 5.]\n",
      "    [5. 5.]]\n",
      "\n",
      "   [[5. 5.]\n",
      "    [5. 5.]]]]]\n"
     ]
    }
   ],
   "source": [
    "# Create 5-d array of data\n",
    "array = 5*np.ones(32).reshape((2, 2, 2, 2, 2))\n",
    "\n",
    "# Create tensor\n",
    "tensor_1_1 = Tensor(array)\n",
    "\n",
    "# Result preview\n",
    "print(tensor_1_1)\n",
    "print(tensor_1_1.data)"
   ]
  },
  {
   "cell_type": "code",
   "execution_count": 5,
   "metadata": {},
   "outputs": [
    {
     "name": "stdout",
     "output_type": "stream",
     "text": [
      "Frobenious norm = 28.284271247461902\n"
     ]
    }
   ],
   "source": [
    "# Calculate Frobenious norm\n",
    "F_N = tensor_1_1.frob_norm\n",
    "print('Frobenious norm =', F_N)"
   ]
  },
  {
   "cell_type": "markdown",
   "metadata": {},
   "source": [
    "### Solution: Part 2"
   ]
  },
  {
   "cell_type": "code",
   "execution_count": 6,
   "metadata": {},
   "outputs": [],
   "source": [
    "# Create tensors and collect information\n",
    "\n",
    "# Setting Parameters\n",
    "tensor_1_2 = []\n",
    "tensor_size_1_2 = []\n",
    "dim_size = [2]  # size of each dimension\n",
    "M_1_2 = range(3,21)  # order\n",
    "\n",
    "# Create tensors and collect information\n",
    "for i in M_1_2:\n",
    "    array = np.ones(dim_size * i)  # Create the array of data\n",
    "    t = Tensor(array)  # Create tensor\n",
    "    tensor_1_2.append(t)\n",
    "    tensor_size_1_2.append(t.size)"
   ]
  },
  {
   "cell_type": "code",
   "execution_count": 7,
   "metadata": {},
   "outputs": [
    {
     "data": {
      "image/png": "[encoded data removed]",
      "text/plain": [
       "<Figure size 432x288 with 1 Axes>"
      ]
     },
     "metadata": {
      "needs_background": "light"
     },
     "output_type": "display_data"
    }
   ],
   "source": [
    "# Plot results\n",
    "plt.plot(M_1_2,tensor_size_1_2)\n",
    "plt.grid(True)\n",
    "plt.title('Relation between an order of a tensor and the number of its elements')\n",
    "plt.xlabel('Order of the tensor')\n",
    "plt.ylabel('Number of its elements')\n",
    "plt.show()"
   ]
  },
  {
   "cell_type": "markdown",
   "metadata": {},
   "source": [
    "### Solution: Part 3"
   ]
  },
  {
   "cell_type": "code",
   "execution_count": 8,
   "metadata": {},
   "outputs": [],
   "source": [
    "# Create tensors and collect information\n",
    "\n",
    "# Setting Parameters\n",
    "tensor_1_3 = []\n",
    "tensor_size_1_3 = []\n",
    "dim_size_1_3 = range(3,16)  # size of each dimension\n",
    "M = 3  # order\n",
    "\n",
    "# Create tensors and collect information\n",
    "for i in dim_size_1_3:\n",
    "    array = np.ones(M * [i])  # Create the array of data\n",
    "    t = Tensor(array)  # Create tensor\n",
    "    tensor_1_3.append(t)\n",
    "    tensor_size_1_3.append(t.size)"
   ]
  },
  {
   "cell_type": "code",
   "execution_count": 9,
   "metadata": {},
   "outputs": [
    {
     "data": {
      "image/png": "[encoded data removed]",
      "text/plain": [
       "<Figure size 432x288 with 1 Axes>"
      ]
     },
     "metadata": {
      "needs_background": "light"
     },
     "output_type": "display_data"
    }
   ],
   "source": [
    "# Plot results\n",
    "plt.plot(dim_size_1_3,tensor_size_1_3)\n",
    "plt.grid(True)\n",
    "plt.title('Relation between the size of dimensions of a tensor and the number of its elements')\n",
    "plt.xlabel('Order of the tensor')\n",
    "plt.ylabel('Number of its elements')\n",
    "plt.show()"
   ]
  },
  {
   "cell_type": "markdown",
   "metadata": {},
   "source": [
    "### Solution: Part 4"
   ]
  },
  {
   "cell_type": "markdown",
   "metadata": {},
   "source": [
    "In part 2, the relation between the order M of a tensor and the number of its elements N is found. With fixed size of each dimension equal to 2, the order of the tensor varies from 3 to 20. The relationship can be written as\n",
    "$$N=2^{M}$$\n",
    "where 2 is derived from the fixed size of each dimension.\n",
    "\n",
    "In part 3, the relation between the size of dimensions D of a tensor and the number of its elements N is found. With fixed order of the tensor equal to 3, the size of each dimension varies from 3 to 15. The relationship can be written as\n",
    "$$N=D^{3}$$\n",
    "where 3 is derived from the fixed order of the tensor.\n",
    "\n",
    "In conclusion, the number of elements in a tensor with equal size of each dimension is\n",
    "$$N=D^{M}$$\n",
    "From this equation, it is found that with equal size of each dimension, the number of elements in a tensor increases exponentially with order, and increases with dimension to the power of order. Therefore, in most cases, increase the order bring more elements into a tensor than increase the dimension. While in both cases, the computation complexity is increased dramatically. "
   ]
  },
  {
   "cell_type": "markdown",
   "metadata": {
    "toc-hr-collapsed": false
   },
   "source": [
    "# Most common tensor substructures\n",
    "<img src=\"./imgs/tensor_substructures.png\" alt=\"Drawing\" style=\"width: 500px;\"/>\n",
    "\n",
    "1. A **fiber** is a vector obtained by fixing all but one of the indices, e.g.  $\\mathbf{\\underline{X}}[i,:,k]$ is the mode-2 fiber $\\mathbf{\\underline{X}}$ (usually refered to as row fiber). \n",
    "\n",
    "1. Fixing all but two of the indices yields a matrix called a **slice** of a tensor, e.g. $\\mathbf{\\underline{X}}[:,:,k]$ is the mode-[1,2] slice (usually refered to as the frontal slice).\n",
    "\n",
    "**Note:** The same principles and definitions can be applied to a tensor of an arbitrarily large order. In addition, you can obtain a **subtensor** by fixing at least three indices and letting the remaining ones vary."
   ]
  },
  {
   "cell_type": "code",
   "execution_count": 10,
   "metadata": {},
   "outputs": [
    {
     "data": {
      "text/plain": [
       "array([4, 5, 6, 7])"
      ]
     },
     "execution_count": 10,
     "metadata": {},
     "output_type": "execute_result"
    }
   ],
   "source": [
    "# Mode-2 fiber\n",
    "tensor.data[0,1,:]"
   ]
  },
  {
   "cell_type": "code",
   "execution_count": 11,
   "metadata": {},
   "outputs": [
    {
     "data": {
      "text/plain": [
       "array([[ 0,  1,  2,  3],\n",
       "       [ 4,  5,  6,  7],\n",
       "       [ 8,  9, 10, 11]])"
      ]
     },
     "execution_count": 11,
     "metadata": {},
     "output_type": "execute_result"
    }
   ],
   "source": [
    "# Frontal slice\n",
    "tensor.data[0,:,:]"
   ]
  },
  {
   "cell_type": "markdown",
   "metadata": {
    "toc-hr-collapsed": true
   },
   "source": [
    "## **Assigment 2**\n",
    "\n",
    "1. Create a tensor of order 4 which consists of 81 elements and display all its horizontal slices and any five row fibers.\n",
    "2. Create a tensor of order 3 and shape `(4,2,5)`, where the values of each consequent frontal slice are doubled."
   ]
  },
  {
   "cell_type": "markdown",
   "metadata": {},
   "source": [
    "### Solution: Part 1"
   ]
  },
  {
   "cell_type": "markdown",
   "metadata": {},
   "source": [
    "###########################################################################################################\n",
    "# Personal Understanding\n",
    "###########################################################################################################\n",
    "\n",
    "According to the given examples, and the matrix properties in Python:\n",
    "\n",
    "For a tensor with shape (a,b,c), since the Frontal slice is expressed as 'tensor.data[k, :, :]', and the Mode-2 fiber is expressed as 'tensor.data[k, i, :]', the index mode order in the tensor in Phthon is different from that in theory. Theoretically, the mode should be ['mode-1', 'mode-2', 'mode-3'] correspoinding to [x, y, z] axis. However, the axis changes to [z, x, y] in the matrix in Python. Therefore, the mode should be ['mode-3', 'mode-1', 'mode-2'] considering the matrix property in Python. And ['mode-3', 'mode-1', 'mode-2'] refers to ['mode-0', 'mode-1', 'mode-2'] given by the function \"Tensor\".\n",
    "\n",
    "If the shape of tensor is (a,b,c,d), the axis is actually [t, z, x, y]. Therefore, the mode should be ['mode-4', 'mode-3', 'mode-1', 'mode-2'], refering to ['mode-0', 'mode-1', 'mode-2', 'mode-3'] given by the function \"Tensor\"."
   ]
  },
  {
   "cell_type": "code",
   "execution_count": 12,
   "metadata": {},
   "outputs": [],
   "source": [
    "# Create a tensor of order 4\n",
    "array = np.arange(81).reshape((3, 3, 3, 3))\n",
    "\n",
    "# Create tensor\n",
    "tensor_2_1 = Tensor(array)"
   ]
  },
  {
   "cell_type": "code",
   "execution_count": 13,
   "metadata": {},
   "outputs": [
    {
     "name": "stdout",
     "output_type": "stream",
     "text": [
      "[[ 0  1  2]\n",
      " [ 9 10 11]\n",
      " [18 19 20]]\n",
      "[[ 3  4  5]\n",
      " [12 13 14]\n",
      " [21 22 23]]\n",
      "[[ 6  7  8]\n",
      " [15 16 17]\n",
      " [24 25 26]]\n",
      "[[27 28 29]\n",
      " [36 37 38]\n",
      " [45 46 47]]\n",
      "[[30 31 32]\n",
      " [39 40 41]\n",
      " [48 49 50]]\n",
      "[[33 34 35]\n",
      " [42 43 44]\n",
      " [51 52 53]]\n",
      "[[54 55 56]\n",
      " [63 64 65]\n",
      " [72 73 74]]\n",
      "[[57 58 59]\n",
      " [66 67 68]\n",
      " [75 76 77]]\n",
      "[[60 61 62]\n",
      " [69 70 71]\n",
      " [78 79 80]]\n"
     ]
    }
   ],
   "source": [
    "# Display horizontal slices\n",
    "for i in range(0,3):\n",
    "    for j in range(0,3):\n",
    "        print(tensor_2_1.data[i,:,j,:])"
   ]
  },
  {
   "cell_type": "code",
   "execution_count": 14,
   "metadata": {},
   "outputs": [
    {
     "name": "stdout",
     "output_type": "stream",
     "text": [
      "[0 1 2]\n",
      "[3 4 5]\n",
      "[6 7 8]\n",
      "[ 9 10 11]\n",
      "[12 13 14]\n"
     ]
    }
   ],
   "source": [
    "# Display row fibers\n",
    "print(tensor_2_1.data[0,0,0,:])\n",
    "print(tensor_2_1.data[0,0,1,:])\n",
    "print(tensor_2_1.data[0,0,2,:])\n",
    "print(tensor_2_1.data[0,1,0,:])\n",
    "print(tensor_2_1.data[0,1,1,:])"
   ]
  },
  {
   "cell_type": "markdown",
   "metadata": {},
   "source": [
    "### Solution: Part 2"
   ]
  },
  {
   "cell_type": "code",
   "execution_count": 15,
   "metadata": {},
   "outputs": [
    {
     "name": "stdout",
     "output_type": "stream",
     "text": [
      "[[[ 0  1  2  3  4]\n",
      "  [ 5  6  7  8  9]]\n",
      "\n",
      " [[ 0  2  4  6  8]\n",
      "  [10 12 14 16 18]]\n",
      "\n",
      " [[ 0  4  8 12 16]\n",
      "  [20 24 28 32 36]]\n",
      "\n",
      " [[ 0  8 16 24 32]\n",
      "  [40 48 56 64 72]]]\n"
     ]
    }
   ],
   "source": [
    "# Create a tensor of order 3\n",
    "array = np.arange(40).reshape((4, 2, 5))\n",
    "\n",
    "# Create tensor\n",
    "tensor_2_2 = Tensor(array)\n",
    "for i in range(3):\n",
    "    tensor_2_2.data[i+1,:,:] = 2 * tensor_2_2.data[i,:,:]\n",
    "print(tensor_2_2.data)"
   ]
  },
  {
   "cell_type": "markdown",
   "metadata": {
    "toc-hr-collapsed": false
   },
   "source": [
    "# Unfolding\n",
    "\n",
    "Conventionally, unfolding is considered to be a process of element mapping from a tensor to a matrix. In other words, it arranges the mode-$n$ fibers of a tensor to be the matrix columns. Thus, the mode-$n$ unfolding is denoted as:\n",
    "\n",
    "$$\\mathbf{\\underline{A}} \\xrightarrow{n} \\mathbf{A}_{(n)}$$\n",
    "\n",
    "Thus, this operations requires to specify a mode along which a tensor will be unfolded. For a third order tensor, a visual representation of such operation is as following\n",
    "\n",
    "<img src=\"./imgs/unfolding.png\" alt=\"Drawing\" style=\"width: 600px;\"/>\n",
    "\n",
    "In `hottbox` this functionality is available through the corresponding methods of the `Tensor` object, for instance:"
   ]
  },
  {
   "cell_type": "code",
   "execution_count": 16,
   "metadata": {},
   "outputs": [
    {
     "name": "stdout",
     "output_type": "stream",
     "text": [
      "This tensor is of order 3 and consists of 24 elements.\n",
      "Sizes and names of its modes are (2, 3, 4) and ['mode-0', 'mode-1', 'mode-2'] respectively.\n",
      "[[[ 0  1  2  3]\n",
      "  [ 4  5  6  7]\n",
      "  [ 8  9 10 11]]\n",
      "\n",
      " [[12 13 14 15]\n",
      "  [16 17 18 19]\n",
      "  [20 21 22 23]]]\n",
      "This tensor is of order 2 and consists of 24 elements.\n",
      "Sizes and names of its modes are (4, 6) and ['mode-2', 'mode-0_mode-1'] respectively.\n",
      "[[ 0  4  8 12 16 20]\n",
      " [ 1  5  9 13 17 21]\n",
      " [ 2  6 10 14 18 22]\n",
      " [ 3  7 11 15 19 23]]\n"
     ]
    }
   ],
   "source": [
    "# Create 3-d array of data\n",
    "array_3d = np.arange(24).reshape((2, 3, 4))\n",
    "\n",
    "# Create tensor\n",
    "tensor = Tensor(array_3d)\n",
    "print(tensor)\n",
    "print(tensor.data)\n",
    "\n",
    "# Unfolding of a tensor\n",
    "tensor.unfold(mode=2)\n",
    "\n",
    "# Result preview\n",
    "print(tensor)\n",
    "print(tensor.data)"
   ]
  },
  {
   "cell_type": "markdown",
   "metadata": {
    "toc-hr-collapsed": true
   },
   "source": [
    "## **Assigment 3**\n",
    "\n",
    "1. Create a tensor, $\\mathbf{\\underline{A}}$, of order 4, in such a way that its version unfolded along the second mode would have sizes `(5,72)`, that is $\\mathbf{A}_{(n)} \\in  \\mathbb{R}^{5 \\times 72}$. Validate your results by displaying the unfolded tensor."
   ]
  },
  {
   "cell_type": "markdown",
   "metadata": {},
   "source": [
    "### Solution : Part 1"
   ]
  },
  {
   "cell_type": "code",
   "execution_count": 17,
   "metadata": {},
   "outputs": [],
   "source": [
    "# Create a tensor\n",
    "\n",
    "# I1 * I3 * I4 = 72, I2 = 5,  (I4, I3, I1, I2)\n",
    "array = np.arange(360).reshape((2, 4, 9, 5))\n",
    "\n",
    "# Create tensor\n",
    "tensor_3_1 = Tensor(array)"
   ]
  },
  {
   "cell_type": "code",
   "execution_count": 18,
   "metadata": {},
   "outputs": [
    {
     "name": "stdout",
     "output_type": "stream",
     "text": [
      "[[  0   5  10  15  20  25  30  35  40  45  50  55  60  65  70  75  80  85\n",
      "   90  95 100 105 110 115 120 125 130 135 140 145 150 155 160 165 170 175\n",
      "  180 185 190 195 200 205 210 215 220 225 230 235 240 245 250 255 260 265\n",
      "  270 275 280 285 290 295 300 305 310 315 320 325 330 335 340 345 350 355]\n",
      " [  1   6  11  16  21  26  31  36  41  46  51  56  61  66  71  76  81  86\n",
      "   91  96 101 106 111 116 121 126 131 136 141 146 151 156 161 166 171 176\n",
      "  181 186 191 196 201 206 211 216 221 226 231 236 241 246 251 256 261 266\n",
      "  271 276 281 286 291 296 301 306 311 316 321 326 331 336 341 346 351 356]\n",
      " [  2   7  12  17  22  27  32  37  42  47  52  57  62  67  72  77  82  87\n",
      "   92  97 102 107 112 117 122 127 132 137 142 147 152 157 162 167 172 177\n",
      "  182 187 192 197 202 207 212 217 222 227 232 237 242 247 252 257 262 267\n",
      "  272 277 282 287 292 297 302 307 312 317 322 327 332 337 342 347 352 357]\n",
      " [  3   8  13  18  23  28  33  38  43  48  53  58  63  68  73  78  83  88\n",
      "   93  98 103 108 113 118 123 128 133 138 143 148 153 158 163 168 173 178\n",
      "  183 188 193 198 203 208 213 218 223 228 233 238 243 248 253 258 263 268\n",
      "  273 278 283 288 293 298 303 308 313 318 323 328 333 338 343 348 353 358]\n",
      " [  4   9  14  19  24  29  34  39  44  49  54  59  64  69  74  79  84  89\n",
      "   94  99 104 109 114 119 124 129 134 139 144 149 154 159 164 169 174 179\n",
      "  184 189 194 199 204 209 214 219 224 229 234 239 244 249 254 259 264 269\n",
      "  274 279 284 289 294 299 304 309 314 319 324 329 334 339 344 349 354 359]]\n",
      "(5, 72)\n"
     ]
    }
   ],
   "source": [
    "# Display unfolded version\n",
    "\n",
    "# since the mode 2 unfolding aims at y, the second mode in ['mode-1', 'mode-2', 'mode-3', 'mode-4']\n",
    "# in python, the axis of a matrix is (t, z, x, y)\n",
    "# hence the mode 2 unfolding changes to ['mode-4', 'mode-3', 'mode-1', 'mode-2']\n",
    "# the modes of tenser given here is ['mode-0', 'mode-1', 'mode-2', 'mode-3']\n",
    "# Hence mode 2 unfolding is 'mode-3' here\n",
    "\n",
    "print(tensor_3_1.unfold(mode=3).data)\n",
    "print(np.shape(tensor_3_1))"
   ]
  },
  {
   "cell_type": "markdown",
   "metadata": {
    "toc-hr-collapsed": false
   },
   "source": [
    "# Mode-n product \n",
    "<img src=\"./imgs/mode_n_product.png\" alt=\"Drawing\" style=\"width: 600px;\"/>\n",
    "\n",
    "The mode-$n$ product is a multiplication of a tensor  by a matrix along the $n^{th}$ mode of a tensor. This essentially means that each mode-$n$ fiber should be multiplied by this matrix. Mathematically, this can be expressed as:\n",
    "\n",
    "$$\\mathbf{\\underline{X}} \\times_n \\mathbf{A} = \\mathbf{\\underline{Y}} \\quad \\Leftrightarrow  \\quad \\mathbf{Y}_{(n)} = \\mathbf{A} \\mathbf{X}_{(n)}  $$"
   ]
  },
  {
   "cell_type": "code",
   "execution_count": 19,
   "metadata": {},
   "outputs": [
    {
     "name": "stdout",
     "output_type": "stream",
     "text": [
      "This tensor is of order 3 and consists of 40 elements.\n",
      "Sizes and names of its modes are (2, 5, 4) and ['mode-0', 'mode-1', 'mode-2'] respectively.\n"
     ]
    },
    {
     "data": {
      "text/plain": [
       "array([[ 20,  23,  26,  29,  56,  59,  62,  65],\n",
       "       [ 56,  68,  80,  92, 200, 212, 224, 236],\n",
       "       [ 92, 113, 134, 155, 344, 365, 386, 407],\n",
       "       [128, 158, 188, 218, 488, 518, 548, 578],\n",
       "       [164, 203, 242, 281, 632, 671, 710, 749]])"
      ]
     },
     "execution_count": 19,
     "metadata": {},
     "output_type": "execute_result"
    }
   ],
   "source": [
    "I, J, K = 2, 3, 4\n",
    "J_new = 5\n",
    "\n",
    "# Create tensor\n",
    "array_3d = np.arange(I * J * K).reshape(I, J ,K)\n",
    "X = Tensor(array_3d)\n",
    "\n",
    "# Create matrix\n",
    "A = np.arange(J_new * J).reshape(J_new, J)\n",
    "\n",
    "# Performs Mode-n product \n",
    "Y = X.mode_n_product(A, mode=1, inplace=False)\n",
    "\n",
    "# Preview of resulting tensor\n",
    "print(Y)\n",
    "\n",
    "# Preview of its unfolded version\n",
    "Y.unfold(mode=1, inplace=False).data"
   ]
  },
  {
   "cell_type": "markdown",
   "metadata": {
    "toc-hr-collapsed": true
   },
   "source": [
    "## **Assignment 4**\n",
    "\n",
    "1. Perform the mode-$n$ product of a 3-rd order tensor, $\\mathbf{\\underline{X}}$, with a matrix, $\\mathbf{A} \\in  \\mathbb{R}^{5 \\times 4}$, provided that the resulting tensor, $\\mathbf{\\underline{Y}}$, consists of `100` elements. Validate your results. \n",
    "\n",
    "> **Note:** You are encouraged to experiment with the optional parameter `inplace` and to investigate its effect on the result."
   ]
  },
  {
   "cell_type": "markdown",
   "metadata": {},
   "source": [
    "### Solution: Part 1"
   ]
  },
  {
   "cell_type": "code",
   "execution_count": 20,
   "metadata": {},
   "outputs": [],
   "source": [
    "# Create original tensor \n",
    "I, J, K = 3, 4, 2\n",
    "array = np.arange(I * J * K).reshape(I, J ,K)\n",
    "X = Tensor(array)"
   ]
  },
  {
   "cell_type": "code",
   "execution_count": 21,
   "metadata": {},
   "outputs": [
    {
     "name": "stdout",
     "output_type": "stream",
     "text": [
      "[[ 0  1  2  3]\n",
      " [ 4  5  6  7]\n",
      " [ 8  9 10 11]\n",
      " [12 13 14 15]\n",
      " [16 17 18 19]]\n"
     ]
    }
   ],
   "source": [
    "# Create matrix\n",
    "J_new = 5\n",
    "J = 4\n",
    "A = np.arange(J_new * J).reshape(J_new, J)\n",
    "print(A)"
   ]
  },
  {
   "cell_type": "code",
   "execution_count": 22,
   "metadata": {},
   "outputs": [
    {
     "name": "stdout",
     "output_type": "stream",
     "text": [
      "[[[  28   34]\n",
      "  [  76   98]\n",
      "  [ 124  162]\n",
      "  [ 172  226]\n",
      "  [ 220  290]]\n",
      "\n",
      " [[  76   82]\n",
      "  [ 252  274]\n",
      "  [ 428  466]\n",
      "  [ 604  658]\n",
      "  [ 780  850]]\n",
      "\n",
      " [[ 124  130]\n",
      "  [ 428  450]\n",
      "  [ 732  770]\n",
      "  [1036 1090]\n",
      "  [1340 1410]]]\n"
     ]
    }
   ],
   "source": [
    "# Perform mode-n product \n",
    "Y = X.mode_n_product(A, mode=1, inplace=False)\n",
    "print(Y.data)"
   ]
  },
  {
   "cell_type": "markdown",
   "metadata": {},
   "source": [
    "Understanding to \"inplace\":\n",
    "\n",
    "\"inplace\" is used to determine the update of the tensor. If \"inplace=False\", the tensor will not be updated, if \"inplace=True\", the tensor will be updated. The default is \"True\""
   ]
  },
  {
   "cell_type": "code",
   "execution_count": 23,
   "metadata": {},
   "outputs": [
    {
     "name": "stdout",
     "output_type": "stream",
     "text": [
      "True\n"
     ]
    }
   ],
   "source": [
    "# Validate equivalence between the left and right hand side\n",
    "L = Y.unfold(mode=1,inplace=False).data\n",
    "R = np.matmul(A,X.unfold(mode=1,inplace=False).data)\n",
    "print(np.array_equal(L,R))"
   ]
  },
  {
   "cell_type": "markdown",
   "metadata": {},
   "source": [
    "# Properties of mode-n product\n",
    "\n",
    "1. For distinct modes in a series of multiplications, the order of the multiplication is irrelevent: \n",
    "\n",
    "    $$\\mathbf{\\underline{X}} \\times_n \\mathbf{A} \\times_m \\mathbf{B} = \\mathbf{\\underline{X}} \\times_m \\mathbf{B} \\times_n \\mathbf{A} \\quad (m \\neq n)$$\n",
    "\n",
    "1. However, this does not hold if the modes are the same :\n",
    "\n",
    "    $$\\mathbf{\\underline{X}} \\times_n \\mathbf{A} \\times_n \\mathbf{B} = \\mathbf{\\underline{X}} \\times_n (\\mathbf{B}\\mathbf{A})$$"
   ]
  },
  {
   "cell_type": "markdown",
   "metadata": {
    "toc-hr-collapsed": true
   },
   "source": [
    "## **Assignment 5**\n",
    "\n",
    "1. Validate both of the above properties empirically \n",
    "2. Prove the second property analytically\n",
    "\n",
    "> **Note:** Be aware of consequences of the optional parameter `inplace` (its default value is set to `True`)."
   ]
  },
  {
   "cell_type": "markdown",
   "metadata": {},
   "source": [
    "### Solution: Part 1"
   ]
  },
  {
   "cell_type": "code",
   "execution_count": 24,
   "metadata": {},
   "outputs": [],
   "source": [
    "# Create tensor\n",
    "I, J, K = 3, 4, 2\n",
    "array = np.arange(I * J * K).reshape(I, J ,K)\n",
    "X = Tensor(array)"
   ]
  },
  {
   "cell_type": "code",
   "execution_count": 25,
   "metadata": {},
   "outputs": [
    {
     "name": "stdout",
     "output_type": "stream",
     "text": [
      "[[0 1 2 3]\n",
      " [4 5 6 7]]\n",
      "[[0 1]\n",
      " [2 3]\n",
      " [4 5]\n",
      " [6 7]]\n"
     ]
    }
   ],
   "source": [
    "# Create matrices\n",
    "J, K = 4, 2\n",
    "\n",
    "J_new_A = 2\n",
    "A = np.arange(J_new_A * J).reshape(J_new_A, J)\n",
    "print(A)\n",
    "\n",
    "J_new_B = 4\n",
    "B = np.arange(J_new_B * K).reshape(J_new_B, K)\n",
    "print(B)"
   ]
  },
  {
   "cell_type": "code",
   "execution_count": 26,
   "metadata": {},
   "outputs": [
    {
     "name": "stdout",
     "output_type": "stream",
     "text": [
      "True\n"
     ]
    }
   ],
   "source": [
    "# Validate property 1\n",
    "L = X.mode_n_product(A, mode=1, inplace=False).mode_n_product(B, mode=2, inplace=False)\n",
    "R = X.mode_n_product(B, mode=2, inplace=False).mode_n_product(A, mode=1, inplace=False)\n",
    "print(np.array_equal(L,R))"
   ]
  },
  {
   "cell_type": "code",
   "execution_count": 27,
   "metadata": {},
   "outputs": [
    {
     "name": "stdout",
     "output_type": "stream",
     "text": [
      "True\n"
     ]
    }
   ],
   "source": [
    "# Validate property 2\n",
    "L = X.mode_n_product(A, mode=1, inplace=False).mode_n_product(B, mode=1, inplace=False)\n",
    "R = X.mode_n_product(np.matmul(B,A), mode=1, inplace=False)\n",
    "print(np.array_equal(L,R))"
   ]
  },
  {
   "cell_type": "markdown",
   "metadata": {
    "toc-hr-collapsed": true
   },
   "source": [
    "### Solution: Part 2\n",
    "\n",
    "Use [LaTeX syntax](https://stackoverflow.com/questions/13208286/how-to-write-latex-in-ipython-notebook) for analytical deriviations for the second property below.\n"
   ]
  },
  {
   "cell_type": "code",
   "execution_count": 28,
   "metadata": {},
   "outputs": [
    {
     "data": {
      "text/latex": [
       "For the $N^{th}$ order tensor $\\mathbf{\\underline{X}} \\in \\mathbb{R}^{I_{1}\\times I_{2}\\times \\dots \\times I_{N} }$, \n",
       "elements in it can be expressed as $\\mathbf{\\underline{X}}(i_{1}, i_{2}, \\dots , i_{N})$, where $i_{k}$ is an integer in the range of $[1,I_{K}]$.\n",
       "\n",
       "The mode-$n$ product of this tensor $\\mathbf{\\underline{X}}$ and a $J-by-I_{n}$ matrix $\\mathbf{A}$ is $\\mathbf{\\underline{Y}} = \\mathbf{\\underline{X}} \\times_{n} \\mathbf{A}$. \n",
       "This can be written as\n",
       "$$\n",
       "\\mathbf{\\underline{Y}} = \\sum_{i_{n}=1}^{I_{n}} \\mathbf{X}(i_{1}, \\dots, i_{n}, \\dots , i_{N}) \\mathbf{A}(j_{n},i_{n}) \\qquad (1)\n",
       "$$\n",
       "\n",
       "Then, the mode-$n$ product of $\\mathbf{\\underline{Y}}$ and a $K-by-I_{n}$ matrix $\\mathbf{B}$ is $\\mathbf{\\underline{Z}} = \\mathbf{\\underline{X}} \\times_{n} \\mathbf{A} \\times_{n} \\mathbf{B}$.\n",
       "This can be written as\n",
       "$$\n",
       "\\mathbf{\\underline{Z}} = \\sum_{l_{n}=1}^{I_{n}} \\left( \\sum_{i_{n}=1}^{I_{n}} \\mathbf{X}(i_{1}, \\dots, i_{n}, \\dots , i_{N}) \\mathbf{A}(l_{n}, i_{n}) \\right) \\mathbf{B}(k_{n},l_{n})  \\qquad (2) \\\\\n",
       "\\mathbf{} = \\sum_{l_{n}=1}^{I_{n}} \\sum_{i_{n}=1}^{I_{n}} \\mathbf{X}(i_{1}, \\dots, i_{n}, \\dots , i_{N}) \\mathbf{A}(l_{n}, i_{n}) \\mathbf{B}(k_{n},l_{n})  \\qquad (3) \\\\\n",
       "\\mathbf{} = \\sum_{i_{n}=1}^{I_{n}} \\left( \\mathbf{X}(i_{1}, \\dots, i_{n}, \\dots , i_{N}) \\sum_{l_{n}=1}^{I_{n}} \\mathbf{B}(k_{n},l_{n}) \\mathbf{A}(l_{n}, i_{n}) \\right) \\qquad (4)\n",
       "$$\n",
       "\n",
       "Let $\\mathbf{C} = \\mathbf{B} \\mathbf{A}$, hence $\\mathbf{C}(k_{n},i_{n}) = \\sum_{l_{n}=1}^{I_{n}} \\mathbf{B}(k_{n},l_{n}) \\mathbf{A}(l_{n}, i_{n})$.\n",
       "$$\n",
       "\\mathbf{\\underline{Z}} = \\sum_{i_{n}=1}^{I_{n}} \\mathbf{X}(i_{1}, \\dots, i_{n}, \\dots , i_{N}) \\mathbf{C}(k_{n},i_{n}) \\qquad (5)\n",
       "$$\n",
       "\n",
       "This equation can be written as\n",
       "$$\n",
       "\\mathbf{\\underline{Z}} = \\mathbf{\\underline{X}} \\times_{n} \\mathbf{C} = \\mathbf{\\underline{X}} \\times_{n} (\\mathbf{B}\\mathbf{A}) \\qquad (6)\n",
       "$$\n",
       "\n",
       "Therefore, it is verified that\n",
       "$$ \n",
       "\\mathbf{\\underline{X}} \\times_{n} \\mathbf{A} \\times_{n} \\mathbf{B} =  \\mathbf{\\underline{X}} \\times_{n} (\\mathbf{B}\\mathbf{A}) \\qquad (7)\n",
       "$$\n"
      ],
      "text/plain": [
       "<IPython.core.display.Latex object>"
      ]
     },
     "metadata": {},
     "output_type": "display_data"
    }
   ],
   "source": [
    "%%latex\n",
    "For the $N^{th}$ order tensor $\\mathbf{\\underline{X}} \\in \\mathbb{R}^{I_{1}\\times I_{2}\\times \\dots \\times I_{N} }$, \n",
    "elements in it can be expressed as $\\mathbf{\\underline{X}}(i_{1}, i_{2}, \\dots , i_{N})$, where $i_{k}$ is an integer in the range of $[1,I_{K}]$.\n",
    "\n",
    "The mode-$n$ product of this tensor $\\mathbf{\\underline{X}}$ and a $J-by-I_{n}$ matrix $\\mathbf{A}$ is $\\mathbf{\\underline{Y}} = \\mathbf{\\underline{X}} \\times_{n} \\mathbf{A}$. \n",
    "This can be written as\n",
    "$$\n",
    "\\mathbf{\\underline{Y}} = \\sum_{i_{n}=1}^{I_{n}} \\mathbf{X}(i_{1}, \\dots, i_{n}, \\dots , i_{N}) \\mathbf{A}(j_{n},i_{n}) \\qquad (1)\n",
    "$$\n",
    "\n",
    "Then, the mode-$n$ product of $\\mathbf{\\underline{Y}}$ and a $K-by-I_{n}$ matrix $\\mathbf{B}$ is $\\mathbf{\\underline{Z}} = \\mathbf{\\underline{X}} \\times_{n} \\mathbf{A} \\times_{n} \\mathbf{B}$.\n",
    "This can be written as\n",
    "$$\n",
    "\\mathbf{\\underline{Z}} = \\sum_{l_{n}=1}^{I_{n}} \\left( \\sum_{i_{n}=1}^{I_{n}} \\mathbf{X}(i_{1}, \\dots, i_{n}, \\dots , i_{N}) \\mathbf{A}(l_{n}, i_{n}) \\right) \\mathbf{B}(k_{n},l_{n})  \\qquad (2) \\\\\n",
    "\\mathbf{} = \\sum_{l_{n}=1}^{I_{n}} \\sum_{i_{n}=1}^{I_{n}} \\mathbf{X}(i_{1}, \\dots, i_{n}, \\dots , i_{N}) \\mathbf{A}(l_{n}, i_{n}) \\mathbf{B}(k_{n},l_{n})  \\qquad (3) \\\\\n",
    "\\mathbf{} = \\sum_{i_{n}=1}^{I_{n}} \\left( \\mathbf{X}(i_{1}, \\dots, i_{n}, \\dots , i_{N}) \\sum_{l_{n}=1}^{I_{n}} \\mathbf{B}(k_{n},l_{n}) \\mathbf{A}(l_{n}, i_{n}) \\right) \\qquad (4)\n",
    "$$\n",
    "\n",
    "Let $\\mathbf{C} = \\mathbf{B} \\mathbf{A}$, hence $\\mathbf{C}(k_{n},i_{n}) = \\sum_{l_{n}=1}^{I_{n}} \\mathbf{B}(k_{n},l_{n}) \\mathbf{A}(l_{n}, i_{n})$.\n",
    "$$\n",
    "\\mathbf{\\underline{Z}} = \\sum_{i_{n}=1}^{I_{n}} \\mathbf{X}(i_{1}, \\dots, i_{n}, \\dots , i_{N}) \\mathbf{C}(k_{n},i_{n}) \\qquad (5)\n",
    "$$\n",
    "\n",
    "This equation can be written as\n",
    "$$\n",
    "\\mathbf{\\underline{Z}} = \\mathbf{\\underline{X}} \\times_{n} \\mathbf{C} = \\mathbf{\\underline{X}} \\times_{n} (\\mathbf{B}\\mathbf{A}) \\qquad (6)\n",
    "$$\n",
    "\n",
    "Therefore, it is verified that\n",
    "$$ \n",
    "\\mathbf{\\underline{X}} \\times_{n} \\mathbf{A} \\times_{n} \\mathbf{B} =  \\mathbf{\\underline{X}} \\times_{n} (\\mathbf{B}\\mathbf{A}) \\qquad (7)\n",
    "$$"
   ]
  }
 ],
 "metadata": {
  "interpreter": {
   "hash": "c1c2a865db9167f4e0fdf0d392a688b343419658df0ae24b41920d789aece202"
  },
  "kernelspec": {
   "display_name": "dpm-coursework",
   "language": "python",
   "name": "python3"
  },
  "language_info": {
   "codemirror_mode": {
    "name": "ipython",
    "version": 3
   },
   "file_extension": ".py",
   "mimetype": "text/x-python",
   "name": "python",
   "nbconvert_exporter": "python",
   "pygments_lexer": "ipython3",
   "version": "3.6.5"
  },
  "toc-autonumbering": false,
  "toc-showcode": false,
  "toc-showmarkdowntxt": false
 },
 "nbformat": 4,
 "nbformat_minor": 2
}
